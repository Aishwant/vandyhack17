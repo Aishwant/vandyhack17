{
 "cells": [
  {
   "cell_type": "code",
   "execution_count": 12,
   "metadata": {
    "collapsed": true
   },
   "outputs": [],
   "source": [
    "#############################################Ethan L. Mines##############################\n",
    "#############################################VandyHacks IV: October 20-22###############\n",
    "import numpy as np\n",
    "import cntk as C\n",
    "\n",
    "####################################Hyperparameters#####################################\n",
    "numType = np.float32\n",
    "num_layers = 1\n",
    "learning_rate = 0.1\n",
    "training_ratio = 3 / 4\n",
    "learnerFunction = C.sgd\n",
    "mb_size = 25\n",
    "\n",
    "dataDir = \"../Dataset/\"\n",
    "outputDir = \"\"\n",
    "\n",
    "np.random.seed(0)"
   ]
  },
  {
   "cell_type": "code",
   "execution_count": 13,
   "metadata": {
    "collapsed": false
   },
   "outputs": [
    {
     "data": {
      "text/plain": [
       "'\\na = np.asarray([24, 86, 98, 45, 22])\\nb = np.asarray([36, 79, 7, 11, 52])\\nc = np.asarray([26, 78, 99, 40, 25])\\n\\nshuffle_arrays(a, b, c)\\nprint(a)\\nprint(b)\\nprint(c)\\n'"
      ]
     },
     "execution_count": 13,
     "metadata": {},
     "output_type": "execute_result"
    }
   ],
   "source": [
    "def shuffle_arrays(*arrays):\n",
    "    rand_state = np.random.get_state()\n",
    "    for array in arrays:\n",
    "        np.random.set_state(rand_state)\n",
    "        np.random.shuffle(array)\n",
    "\n",
    "###############shuffle_arrays debug#################\n",
    "\"\"\"\n",
    "a = np.asarray([24, 86, 98, 45, 22])\n",
    "b = np.asarray([36, 79, 7, 11, 52])\n",
    "c = np.asarray([26, 78, 99, 40, 25])\n",
    "\n",
    "shuffle_arrays(a, b, c)\n",
    "print(a)\n",
    "print(b)\n",
    "print(c)\n",
    "\"\"\""
   ]
  },
  {
   "cell_type": "code",
   "execution_count": 14,
   "metadata": {
    "collapsed": true
   },
   "outputs": [],
   "source": [
    "def classifier(output_dim, input_var, num_layers):\n",
    "    z = C.layers.Dense(output_dim)(input_var)\n",
    "    for i in range(num_layers - 1):\n",
    "        z = C.layers.Dense(output_dim)(z)\n",
    "    return z"
   ]
  },
  {
   "cell_type": "code",
   "execution_count": 15,
   "metadata": {
    "collapsed": true
   },
   "outputs": [],
   "source": [
    "def my_trainer(z, labels):    \n",
    "    lr_schedule = C.learning_rate_schedule(learning_rate, C.UnitType.minibatch)\n",
    "    learner = learnerFunction(z.parameters, lr_schedule)\n",
    "    loss = C.cross_entropy_with_softmax(z, labels)\n",
    "    eval_error = C.classification_error(z, labels)\n",
    "    trainer = C.Trainer(z, (loss, eval_error), [learner])\n",
    "    return trainer"
   ]
  },
  {
   "cell_type": "code",
   "execution_count": 16,
   "metadata": {
    "collapsed": true
   },
   "outputs": [],
   "source": [
    "#######################Modified from Microsoft CNTK101 Tutorial#####################\n",
    "def print_progress(trainer, mb_num, frequency, display = True):\n",
    "    loss, eval_error = \"NA\", \"NA\"\n",
    "    if mb_num % frequency == 0:\n",
    "        loss = trainer.previous_minibatch_loss_average\n",
    "        eval_error = trainer.previous_minibatch_evaluation_average\n",
    "        if display:\n",
    "            print(\"Minibatch {0:04n}: Average Loss = {1:.4f}, Average Error = {2:.4f}\".format(mb_num, loss, eval_error))\n",
    "    return mb_num, loss, eval_error"
   ]
  },
  {
   "cell_type": "code",
   "execution_count": 17,
   "metadata": {
    "collapsed": true
   },
   "outputs": [],
   "source": [
    "###########################Modified from Microsoft CNTK101 Tutorial#################\n",
    "from collections import defaultdict\n",
    "\n",
    "def train_model(trainer, training_size, mb_size, features, labels, input_var, label_var):\n",
    "    training_plotdata = defaultdict(list)\n",
    "    progress_output_freq = 50\n",
    "    training_features = features[:training_size]\n",
    "    training_labels = labels[:training_size]\n",
    "    \n",
    "    num_training_mbs = training_size // mb_size\n",
    "    \n",
    "    for i in range(num_training_mbs):\n",
    "        start_index = i * mb_size\n",
    "        end_index = start_index + mb_size\n",
    "        feature_batch = training_features[start_index : end_index]\n",
    "        label_batch = training_labels[start_index : end_index]\n",
    "        trainer.train_minibatch({input_var : feature_batch, label_var : label_batch})\n",
    "    \n",
    "        mb_num, loss, error = print_progress(trainer, i, progress_output_freq)\n",
    "        if loss != \"NA\":\n",
    "            training_plotdata[\"Batch Number\"].append(mb_num)\n",
    "            training_plotdata[\"Loss\"].append(loss)\n",
    "            training_plotdata[\"Error\"].append(error)\n",
    "            \n",
    "    return training_plotdata\n",
    "\n",
    "def test_model(trainer, training_size, mb_size, features, labels, input_var, label_var):\n",
    "    testing_plotdata = defaultdict(list)\n",
    "    testing_features = features[training_size:]\n",
    "    testing_labels = labels[training_size:]\n",
    "    \n",
    "    num_testing_mbs = (len(features) - training_size) // mb_size\n",
    "    for i in range(num_testing_mbs):\n",
    "        start_index = i * mb_size\n",
    "        end_index = start_index + mb_size\n",
    "        feature_batch = testing_features[start_index : end_index]\n",
    "        label_batch = testing_labels[start_index : end_index]\n",
    "    \n",
    "        eval_error = trainer.test_minibatch({input_var : feature_batch, label_var : label_batch})\n",
    "    \n",
    "        if eval_error != \"NA\":\n",
    "            testing_plotdata[\"Batch Number\"].append(i)\n",
    "            testing_plotdata[\"Error\"].append(eval_error)\n",
    "            \n",
    "    return testing_plotdata"
   ]
  },
  {
   "cell_type": "code",
   "execution_count": 18,
   "metadata": {
    "collapsed": true
   },
   "outputs": [],
   "source": [
    "import matplotlib.pyplot as plt\n",
    "%matplotlib inline\n",
    "\n",
    "def graphResults(training_plotdata, testing_plotdata):\n",
    "\n",
    "    training_plotdata[\"Average Loss\"] = moving_average(training_plotdata[\"Loss\"])\n",
    "    training_plotdata[\"Average Error\"] = moving_average(training_plotdata[\"Error\"])\n",
    "    testing_plotdata[\"Average Error\"] = moving_average(testing_plotdata[\"Error\"])\n",
    "\n",
    "    plt.plot(training_plotdata[\"Batch Number\"], training_plotdata[\"Average Loss\"])\n",
    "    plt.title(\"Training Loss\")\n",
    "    plt.xlabel(\"Minibatch Number\")\n",
    "    plt.ylabel(\"Cumulative Average Loss\")\n",
    "    plt.show()\n",
    "    print(\"Average Training Loss = {0:.2f}\".format(training_plotdata[\"Average Loss\"][-1]))\n",
    "    \n",
    "    plt.plot(training_plotdata[\"Batch Number\"], training_plotdata[\"Average Error\"])\n",
    "    plt.title(\"Training Error\")\n",
    "    plt.xlabel(\"Minibatch Number\")\n",
    "    plt.ylabel(\"Cumulative Average Error\")\n",
    "    plt.show()\n",
    "    print(\"Average Training Error = {0:.2f}\".format(training_plotdata[\"Average Error\"][-1]))\n",
    "    \n",
    "\n",
    "    plt.hist(testing_plotdata[\"Error\"])\n",
    "    plt.title(\"Testing Error\")\n",
    "    plt.xlabel(\"Minibatch Average Error\")\n",
    "    plt.ylabel(\"Frequency\")\n",
    "    plt.show()    \n",
    "    print(\"Average Testing Error = {0:.2f}\".format(testing_plotdata[\"Average Error\"][-1]))"
   ]
  },
  {
   "cell_type": "code",
   "execution_count": 19,
   "metadata": {
    "collapsed": false
   },
   "outputs": [],
   "source": [
    "def moving_average(loss_list):\n",
    "    averages = np.cumsum(np.asarray(loss_list))\n",
    "    for i in range(len(averages)):\n",
    "        averages[i] = averages[i] / (i + 1)\n",
    "    return averages\n",
    "\n",
    "#Expects number of possible categories \"num_categories\" and category index \"category\" in range 0...num_categories-1\n",
    "def toOneHot(column, indexDict):\n",
    "    #print(len(column), \",\", len(indexDict))\n",
    "    oneHot = np.zeros( (len(column), len(indexDict)), dtype = numType)\n",
    "    \n",
    "    for i in range(len(column)):\n",
    "        oneHot[i][ indexDict[column[i]] ] = 1\n",
    "    \n",
    "    #print(oneHot[:5])\n",
    "    return oneHot\n",
    "\n",
    "#############Returns str->int dictionary where the int's are indices for one-hot vectors of categories in column\n",
    "def extractCategories(column, categPath):\n",
    "    dictionary = {}\n",
    "    i = 0\n",
    "    with open(categPath, \"w\") as categDict:\n",
    "        for element in column:\n",
    "            if element not in dictionary:\n",
    "                dictionary[element] = i\n",
    "                i += 1\n",
    "                categDict.write(element + \"\\n\")\n",
    "    return dictionary\n",
    "\n",
    "#One-hot encodes all the CSV data\n",
    "#Also writes simple text files that can than be used to reconstruct the index dictionaries\n",
    "def process_csv(source, prefix):\n",
    "    data = np.genfromtxt(dataDir + source, delimiter = \",\", dtype = str)\n",
    "    \n",
    "    debug_limit = 15\n",
    "    \n",
    "    \"\"\"\n",
    "    print(data[:debug_limit])\n",
    "    print()\n",
    "    \"\"\"\n",
    "    \n",
    "    column_indices = {\"month\": 1,\n",
    "                     \"hour\": 2,\n",
    "                     \"weekday\": 3,\n",
    "                     \"zip_code\": 4,\n",
    "                     \"crime\": 7\n",
    "                     }\n",
    "    \n",
    "    months = data[:, column_indices[\"month\"]]\n",
    "    hours = data[:, column_indices[\"hour\"]]\n",
    "    weekdays = data[:, column_indices[\"weekday\"]]\n",
    "    zips = data[:, column_indices[\"zip_code\"]]\n",
    "    crimes = data[:, column_indices[\"crime\"]]\n",
    "\n",
    "    \"\"\"  \n",
    "    fields = [months, hours, weekdays, zips, crimes]\n",
    "    for field in fields:\n",
    "        print(field[:debug_limit])\n",
    "    print()\n",
    "    \"\"\"\n",
    "    \n",
    "    monthsDict = extractCategories(months, outputDir + prefix + \"_month_dict\")\n",
    "    hoursDict = extractCategories(hours, outputDir + prefix + \"_hours_dict\")\n",
    "    weekdaysDict = extractCategories(weekdays, outputDir + prefix + \"_weekdays_dict\")\n",
    "    zipsDict = extractCategories(zips, outputDir + prefix + \"_zips_dict\")\n",
    "    crimesDict = extractCategories(crimes, outputDir + prefix + \"_crimes_dict\")\n",
    "    \n",
    "    \"\"\"\n",
    "    dicts = [monthsDict, hoursDict, weekdaysDict, zipsDict, crimesDict]\n",
    "    for dictionary in dicts:\n",
    "        print(dictionary)\n",
    "    print()\n",
    "    \"\"\"\n",
    "\n",
    "    months = toOneHot(months, monthsDict)\n",
    "    hours = toOneHot(hours, hoursDict)\n",
    "    weekdays = toOneHot(weekdays, weekdaysDict)\n",
    "    zips = toOneHot(zips, zipsDict)\n",
    "    crimes = toOneHot(crimes, crimesDict)\n",
    "    \n",
    "    \"\"\"\n",
    "    fields = [months, hours, weekdays, zips, crimes]\n",
    "    for field in fields:\n",
    "        print(field[:debug_limit])\n",
    "    print()\n",
    "    \"\"\"\n",
    "    \n",
    "\n",
    "    shuffle_arrays(months, hours, weekdays, zips, crimes)\n",
    "    features = np.column_stack((months, hours, weekdays))\n",
    "    \n",
    "    #print(features[:debug_limit])\n",
    "    \n",
    "    return features, zips, crimes"
   ]
  },
  {
   "cell_type": "code",
   "execution_count": 20,
   "metadata": {
    "collapsed": false
   },
   "outputs": [],
   "source": [
    "def gen_models(source, prefix):\n",
    "\n",
    "    features, zips, crimes = process_csv(source, prefix)\n",
    "    \n",
    "    #print(features[:5])\n",
    "    #print(len(features[0]))\n",
    "    num_features = len(features[0])\n",
    "    num_zips = len(zips[0])\n",
    "    num_crimes = len(crimes[0])\n",
    "    \n",
    "\n",
    "    #Model variables\n",
    "    input = C.input_variable(num_features, dtype = numType)    \n",
    "    zip_label = C.input_variable(num_zips, dtype = numType)\n",
    "    crime_label = C.input_variable(num_crimes, dtype = numType)\n",
    "\n",
    "    #print(zip_label.shape)\n",
    "    #print(crime_label.shape)\n",
    "    \n",
    "    \n",
    "    #Actual models\n",
    "    zone_classifier = classifier(zip_label.shape[0], input, num_layers)\n",
    "    crime_classifier = classifier(crime_label.shape[0], input, num_layers)\n",
    "    \n",
    "    \n",
    "    \n",
    "    zip_trainer = my_trainer(zone_classifier, zip_label)\n",
    "    crime_trainer = my_trainer(crime_classifier, crime_label)\n",
    "\n",
    "    num_samples = len(zips)\n",
    "    num_training = int(num_samples * training_ratio)\n",
    "    \n",
    "    #print(num_samples)\n",
    "    #print(num_training)\n",
    "\n",
    "    print(\"ZIP CODE MODEL\")\n",
    "    zip_train_results = train_model(zip_trainer, num_training, mb_size, features, zips, input, zip_label)    \n",
    "    zip_test_results = test_model(zip_trainer, num_training, mb_size, features, zips, input, zip_label)\n",
    "    graphResults(zip_train_results, zip_test_results)\n",
    "    print()\n",
    "\n",
    "    print(\"CRIME TYPE MODEL\")\n",
    "    crime_train_results = train_model(crime_trainer, num_training, mb_size, features, crimes, input, crime_label)\n",
    "    crime_test_results = test_model(crime_trainer, num_training, mb_size, features, crimes, input, crime_label)\n",
    "    graphResults(crime_train_results, crime_test_results)\n",
    "    \n",
    "    return zone_classifier, crime_classifier"
   ]
  },
  {
   "cell_type": "code",
   "execution_count": 21,
   "metadata": {
    "collapsed": true
   },
   "outputs": [],
   "source": [
    "def write_model_files(source, prefix):\n",
    "\n",
    "    zone_model, crime_model = gen_models(source, prefix)\n",
    "    zone_model_path = outputDir + prefix + \"_zips.cmf\"\n",
    "    crime_model_path = outputDir + prefix + \"_crimes.cmf\"\n",
    "    \n",
    "    zone_model.save(zone_model_path)\n",
    "    print(\"Wrote \" + zone_model_path)\n",
    "    crime_model.save(crime_model_path)\n",
    "    print(\"Wrote \" + crime_model_path)\n",
    "    \n"
   ]
  },
  {
   "cell_type": "code",
   "execution_count": 22,
   "metadata": {
    "collapsed": false
   },
   "outputs": [
    {
     "name": "stdout",
     "output_type": "stream",
     "text": [
      "ZIP CODE MODEL\n",
      "Minibatch 0000: Average Loss = 3.0498, Average Error = 0.9600\n",
      "Minibatch 0050: Average Loss = 1.1358, Average Error = 0.2000\n",
      "Minibatch 0100: Average Loss = 0.6842, Average Error = 0.1200\n",
      "Minibatch 0150: Average Loss = 0.7126, Average Error = 0.1200\n",
      "Minibatch 0200: Average Loss = 0.8620, Average Error = 0.2000\n",
      "Minibatch 0250: Average Loss = 0.5007, Average Error = 0.1200\n",
      "Minibatch 0300: Average Loss = 0.7670, Average Error = 0.1600\n",
      "Minibatch 0350: Average Loss = 1.0192, Average Error = 0.2000\n",
      "Minibatch 0400: Average Loss = 0.8479, Average Error = 0.1600\n",
      "Minibatch 0450: Average Loss = 0.4778, Average Error = 0.0800\n",
      "Minibatch 0500: Average Loss = 0.9993, Average Error = 0.2400\n",
      "Minibatch 0550: Average Loss = 1.1286, Average Error = 0.2400\n",
      "Minibatch 0600: Average Loss = 0.8915, Average Error = 0.2000\n",
      "Minibatch 0650: Average Loss = 0.6914, Average Error = 0.1200\n",
      "Minibatch 0700: Average Loss = 1.0340, Average Error = 0.2400\n",
      "Minibatch 0750: Average Loss = 0.6832, Average Error = 0.2000\n",
      "Minibatch 0800: Average Loss = 1.0706, Average Error = 0.2400\n",
      "Minibatch 0850: Average Loss = 0.2880, Average Error = 0.0400\n",
      "Minibatch 0900: Average Loss = 0.5584, Average Error = 0.1200\n",
      "Minibatch 0950: Average Loss = 0.7895, Average Error = 0.2400\n",
      "Minibatch 1000: Average Loss = 0.5161, Average Error = 0.1200\n",
      "Minibatch 1050: Average Loss = 1.1933, Average Error = 0.3200\n",
      "Minibatch 1100: Average Loss = 0.6338, Average Error = 0.1600\n",
      "Minibatch 1150: Average Loss = 1.0576, Average Error = 0.2000\n",
      "Minibatch 1200: Average Loss = 0.8382, Average Error = 0.2000\n",
      "Minibatch 1250: Average Loss = 0.7815, Average Error = 0.2800\n"
     ]
    },
    {
     "data": {
      "image/png": "[encoded data removed]",
      "text/plain": [
       "<matplotlib.figure.Figure at 0x2cb83b0f978>"
      ]
     },
     "metadata": {},
     "output_type": "display_data"
    },
    {
     "name": "stdout",
     "output_type": "stream",
     "text": [
      "Average Training Loss = 0.89\n"
     ]
    },
    {
     "data": {
      "image/png": "[encoded data removed]",
      "text/plain": [
       "<matplotlib.figure.Figure at 0x2cb84d18c88>"
      ]
     },
     "metadata": {},
     "output_type": "display_data"
    },
    {
     "name": "stdout",
     "output_type": "stream",
     "text": [
      "Average Training Error = 0.21\n"
     ]
    },
    {
     "data": {
      "image/png": "[encoded data removed]",
      "text/plain": [
       "<matplotlib.figure.Figure at 0x2cb8463fa90>"
      ]
     },
     "metadata": {},
     "output_type": "display_data"
    },
    {
     "name": "stdout",
     "output_type": "stream",
     "text": [
      "Average Testing Error = 0.19\n",
      "\n",
      "CRIME TYPE MODEL\n",
      "Minibatch 0000: Average Loss = 3.3328, Average Error = 0.9600\n",
      "Minibatch 0050: Average Loss = 2.7716, Average Error = 0.6400\n",
      "Minibatch 0100: Average Loss = 2.4326, Average Error = 0.6800\n",
      "Minibatch 0150: Average Loss = 2.1681, Average Error = 0.5600\n",
      "Minibatch 0200: Average Loss = 2.2450, Average Error = 0.6000\n",
      "Minibatch 0250: Average Loss = 2.3423, Average Error = 0.6800\n",
      "Minibatch 0300: Average Loss = 2.1910, Average Error = 0.7200\n",
      "Minibatch 0350: Average Loss = 2.4200, Average Error = 0.8800\n",
      "Minibatch 0400: Average Loss = 2.1667, Average Error = 0.7200\n",
      "Minibatch 0450: Average Loss = 2.2506, Average Error = 0.6800\n",
      "Minibatch 0500: Average Loss = 2.3014, Average Error = 0.7200\n",
      "Minibatch 0550: Average Loss = 1.7196, Average Error = 0.4800\n",
      "Minibatch 0600: Average Loss = 1.7696, Average Error = 0.5600\n",
      "Minibatch 0650: Average Loss = 2.0340, Average Error = 0.5600\n",
      "Minibatch 0700: Average Loss = 1.6475, Average Error = 0.5200\n",
      "Minibatch 0750: Average Loss = 2.2855, Average Error = 0.8000\n",
      "Minibatch 0800: Average Loss = 1.9391, Average Error = 0.6000\n",
      "Minibatch 0850: Average Loss = 2.0420, Average Error = 0.4400\n",
      "Minibatch 0900: Average Loss = 1.6611, Average Error = 0.4000\n",
      "Minibatch 0950: Average Loss = 1.9301, Average Error = 0.5600\n",
      "Minibatch 1000: Average Loss = 1.9154, Average Error = 0.6400\n",
      "Minibatch 1050: Average Loss = 2.0935, Average Error = 0.6800\n",
      "Minibatch 1100: Average Loss = 1.8880, Average Error = 0.5600\n",
      "Minibatch 1150: Average Loss = 1.8622, Average Error = 0.5600\n",
      "Minibatch 1200: Average Loss = 2.0621, Average Error = 0.6000\n",
      "Minibatch 1250: Average Loss = 2.1063, Average Error = 0.7200\n"
     ]
    },
    {
     "data": {
      "image/png": "[encoded data removed]",
      "text/plain": [
       "<matplotlib.figure.Figure at 0x2cb861abe10>"
      ]
     },
     "metadata": {},
     "output_type": "display_data"
    },
    {
     "name": "stdout",
     "output_type": "stream",
     "text": [
      "Average Training Loss = 2.14\n"
     ]
    },
    {
     "data": {
      "image/png": "[encoded data removed]",
      "text/plain": [
       "<matplotlib.figure.Figure at 0x2cb84cdc278>"
      ]
     },
     "metadata": {},
     "output_type": "display_data"
    },
    {
     "name": "stdout",
     "output_type": "stream",
     "text": [
      "Average Training Error = 0.64\n"
     ]
    },
    {
     "data": {
      "image/png": "[encoded data removed]",
      "text/plain": [
       "<matplotlib.figure.Figure at 0x2cb84d3e438>"
      ]
     },
     "metadata": {},
     "output_type": "display_data"
    },
    {
     "name": "stdout",
     "output_type": "stream",
     "text": [
      "Average Testing Error = 0.64\n",
      "Wrote arizona_zips.cmf\n",
      "Wrote arizona_crimes.cmf\n"
     ]
    }
   ],
   "source": [
    "datafiles = [\"cleanedArizona.csv\"]\n",
    "model_prefixes =[\"arizona\"] # For naming saved model files\n",
    "\n",
    "for i in range(len(datafiles)):\n",
    "    write_model_files(datafiles[i], model_prefixes[i])"
   ]
  }
 ],
 "metadata": {
  "kernelspec": {
   "display_name": "Python [Root]",
   "language": "python",
   "name": "Python [Root]"
  },
  "language_info": {
   "codemirror_mode": {
    "name": "ipython",
    "version": 3
   },
   "file_extension": ".py",
   "mimetype": "text/x-python",
   "name": "python",
   "nbconvert_exporter": "python",
   "pygments_lexer": "ipython3",
   "version": "3.5.2"
  }
 },
 "nbformat": 4,
 "nbformat_minor": 0
}
