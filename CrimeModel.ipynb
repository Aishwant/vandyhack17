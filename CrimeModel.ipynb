{
 "cells": [
  {
   "cell_type": "code",
   "execution_count": 2,
   "metadata": {
    "collapsed": true
   },
   "outputs": [],
   "source": [
    "#############################################Ethan L. Mines##############################\n",
    "import numpy as np\n",
    "import cntk as C\n",
    "\n"
   ]
  },
  {
   "cell_type": "code",
   "execution_count": null,
   "metadata": {
    "collapsed": true
   },
   "outputs": [],
   "source": [
    "dataPath = \".\"\n",
    "dataFile = \"arizona.csv\"\n",
    "data = np.genfromtext(dataPath + dataFile, delimiter = \",\", dtype = str)"
   ]
  },
  {
   "cell_type": "code",
   "execution_count": 6,
   "metadata": {
    "collapsed": true
   },
   "outputs": [],
   "source": [
    "numType = np.float32\n",
    "numLayers = 1\n",
    "\n",
    "num_training = 30000"
   ]
  },
  {
   "cell_type": "code",
   "execution_count": 2,
   "metadata": {
    "collapsed": true
   },
   "outputs": [],
   "source": [
    "#Expects number of possible categories \"num_categories\" and category index \"category\" in range 0...num_categories-1\n",
    "def toOneHot(category, num_categories):\n",
    "    oneHot = np.zeros(num_categories, dtype = numType)\n",
    "    oneHot[category] = 1\n",
    "    return oneHot\n",
    "\n",
    "def weekdayIndex(weekday):\n",
    "    return int(weekday) - 1\n",
    "def monthIndex(month):\n",
    "    return int(month) - 1\n",
    "def zoneIndex(zone, zoneDict):\n",
    "    return zipDict[zoneCode]\n",
    "def crimeIndex(crime, crimeDict):\n",
    "    return crimeDict[crime]\n",
    "\n",
    "#############Returns str->int dictionary where the int's are indices for one-hot vectors of categories in column\n",
    "def extractCategories(column):\n",
    "    dictionary = {}\n",
    "    i = 0\n",
    "    for element in column:\n",
    "        if element not in dictionary:\n",
    "            dictionary[element] = i\n",
    "    return dictionary\n",
    "\n",
    "\n",
    "    \n",
    "\n",
    "#Days and period are static across campuses, but the zones could depend on how many zones Tam defines for each campus \n",
    "zoneIndices = extractCategories()\n",
    "\n",
    "\n",
    "\n",
    "        \n",
    "\n",
    "\n",
    "#Length-7 one-hot encoded vectors for days of week\n",
    "#Length-3 one-hot encoded vectors for period of day\n",
    "\n",
    "#OUtput-softmax probabilities for Tam's designated zones"
   ]
  },
  {
   "cell_type": "code",
   "execution_count": 4,
   "metadata": {
    "collapsed": true
   },
   "outputs": [],
   "source": [
    "num_features = 4 #Month, day of week, hour\n",
    "num_zone_classes = 5#len(zoneIndices)\n",
    "num_crime_classes = 5#len(crimeIndices)"
   ]
  },
  {
   "cell_type": "code",
   "execution_count": null,
   "metadata": {
    "collapsed": true
   },
   "outputs": [],
   "source": [
    "np.random.seed(0)\n",
    "def shuffle_arrays(*arrays):\n",
    "    rand_state = np.random.get_state()\n",
    "    for array in arrays:\n",
    "        np.random.set_state(rand_state)\n",
    "        np.random.shuffle(array)\n",
    "\n",
    "shuffle_arrays(features, labels)"
   ]
  },
  {
   "cell_type": "code",
   "execution_count": null,
   "metadata": {
    "collapsed": true
   },
   "outputs": [],
   "source": [
    "#constructor = lambda last_layer: Dense(num_zone_classes)\n",
    "\n",
    "\n",
    "\n",
    "training_data = C.input_variable(num_features, dtype = numType)\n",
    "zone_label = C.input_variable(num_zone_classes, dtype = numType)\n",
    "crime_label = C.input_variable(num_crime_classes, dtype = numType)\n",
    "\n",
    "\n",
    "def classifier(output_dim, input_var, num_layers):\n",
    "    z = Dense(output_dim)(input_var) #FIXME: Change initial variable name\n",
    "    for i in range(num_layers - 1):\n",
    "        z = Dense(output_dim)(z)\n",
    "\n",
    "\n",
    "zone_classifier = classifier(zone_label.shape[0], training_data, num_layers)\n",
    "crime_classifier = classifier(crime_label.shape[0], training_data, num_layers)"
   ]
  },
  {
   "cell_type": "code",
   "execution_count": 8,
   "metadata": {
    "collapsed": false
   },
   "outputs": [
    {
     "name": "stdout",
     "output_type": "stream",
     "text": [
      "(4,)\n"
     ]
    }
   ],
   "source": [
    "def my_trainer(output_dim, z, loss, eval_error):\n",
    "    learning_rate = 0.1 #Fixme: Make a global constant so as to be more noticeable?\n",
    "    \n",
    "    lr_schedule = C.learning_rate_schedule(learning_rate, C.UnitType.minibatch)\n",
    "    learner = C.sgd(z.parameters, lr_schedule)\n",
    "    loss = C.cross_entropy_with_softmax(z, zone_label)\n",
    "    eval_error = c.classification_error(z, zone_label)\n",
    "    trainer = C.Trainer(z, (loss, eval_error), [learner])"
   ]
  },
  {
   "cell_type": "code",
   "execution_count": null,
   "metadata": {
    "collapsed": true
   },
   "outputs": [],
   "source": [
    "zone_trainer = my_trainer(num_zone_classes, zone_classifier)\n",
    "crime_trainer = my_trainer(num_crime_classes, crime_classifier)\n",
    "\n",
    "num_samples = len(data)\n",
    "num_training = num_samples * 2 // 3\n",
    "num_testing = num_samples - num_training\n",
    "training_mb_size = 25\n",
    "\n",
    "\n"
   ]
  },
  {
   "cell_type": "code",
   "execution_count": null,
   "metadata": {
    "collapsed": true
   },
   "outputs": [],
   "source": [
    "def moving_average(loss_list):\n",
    "    averages = np.cumsum(np.asarray(loss_list))\n",
    "    for i in range(len(averages)):\n",
    "        averages[i] = averages[i] / (i + 1)\n",
    "    return averages\n",
    "\n",
    "\n",
    "#######################Modified from Microsoft CNTK101 Tutorial#####################\n",
    "def print_progress(trainer, mb_num, frequency, display = True):\n",
    "    loss = \"NA\"\n",
    "    if mb_num % frequency == 0:\n",
    "        loss = trainer.previous_minibatch_loss_average\n",
    "        eval_error = trainer.previous_minibatch_evaluation_average\n",
    "        if display:\n",
    "            print(\"Minibatch {0:04n}: Average Loss = {1:.4f}, Average Error = {2:.4f}\".format(mb_num, loss, eval_error))\n",
    "    return mb_num, loss, eval_error"
   ]
  },
  {
   "cell_type": "code",
   "execution_count": null,
   "metadata": {
    "collapsed": true
   },
   "outputs": [],
   "source": [
    "###########################Modified from Microsoft CNTK101 Tutorial#################\n",
    "from collections import defaultdict\n",
    "\n",
    "def training_model(trainer, training_size, mb_size, features, labels, input_var, label_var):\n",
    "    training_plot_data = defaultdict(list)\n",
    "    progress_output_freq = 1000\n",
    "    training_features = features[:training_size]\n",
    "    training_labels = labels[:training_size]\n",
    "    \n",
    "    num_training_mbs = training_size // mb_size\n",
    "    \n",
    "    for i in range(num_training_minibatches):\n",
    "        start_index = i * training_minibatch_size\n",
    "        end_index = start_index + training_minibatch_size\n",
    "        feature_batch = training_features[start_index : end_index]\n",
    "        label_batch = training_labels[start_index : end_index]\n",
    "        trainer.train_minibatch({input_var : feature_batch, label_var : label_batch})\n",
    "    \n",
    "        mb_num, loss, error = print_progress(trainer, i, progress_output_freq)\n",
    "        if loss != \"NA\":\n",
    "            training_plotdata[\"Batch Number\"].append(mb_num)\n",
    "            training_plotdata[\"Loss\"].append(loss)\n",
    "            training_plotdata[\"Error\"].append(error)\n",
    "            \n",
    "    return training_plotdata\n",
    "\n",
    "def testing_model(trainer, mb_size, features, labels, input_var, label_var):\n",
    "    testing_plotdata = defaultdict(list)\n",
    "    \n",
    "\n",
    "    for i in range(num_testing_minibatches):\n",
    "        start_index = i * mb_size\n",
    "        end_index = start_index + mb_size\n",
    "        feature_batch = testing_features[start_index : end_index]\n",
    "        label_batch = testing_labels[start_index : end_index]\n",
    "    \n",
    "        eval_error = trainer.test_minibatch({input_var : feature_batch, label_var : label_batch})\n",
    "    \n",
    "        if eval_error != \"NA\":\n",
    "            testing_plotdata[\"Batch Number\"].append(i)\n",
    "            testing_plotdata[\"Error\"].append(eval_error)"
   ]
  },
  {
   "cell_type": "code",
   "execution_count": null,
   "metadata": {
    "collapsed": true
   },
   "outputs": [],
   "source": [
    "import matplotlib.pyplot as plt\n",
    "%matplotlib inline\n",
    "\n",
    "def\n",
    "\n",
    "training_plotdata[\"Average Loss\"] = moving_average(training_plotdata[\"Loss\"])\n",
    "training_plotdata[\"Average Error\"] = moving_average(training_plotdata[\"Error\"])\n",
    "\n",
    "testing_plotdata[\"Average Error\"] = moving_average(testing_plotdata[\"Error\"])\n",
    "\n",
    "plt.plot(training_plotdata[\"Batch Number\"], training_plotdata[\"Average Loss\"])\n",
    "plt.title(\"Cumulative Average Loss\")\n",
    "plt.xlabel(\"Minibatch Number\")\n",
    "plt.ylabel(\"Loss\")\n",
    "plt.show()\n",
    "\n",
    "print(\"Average Training Loss = {0:.2f}\".format(training_plotdata[\"Average Loss\"][-1]))\n",
    "\n",
    "\n",
    "plt.hist(testing_plotdata[\"Loss\"])\n",
    "plt.title(\"Testing Error\")\n",
    "plt.xlabel(\"Minibatch Average Error\")\n",
    "plt.ylabel(\"Frequency\")\n",
    "plt.show()\n",
    "\n",
    "print(\"Average Testing Loss = {0:.2f}\".format(testing_plotdata[\"Average Loss\"][-1]))"
   ]
  },
  {
   "cell_type": "code",
   "execution_count": null,
   "metadata": {
    "collapsed": true
   },
   "outputs": [],
   "source": [
    "zone_model_path = \"zone_classifier.cmf\"\n",
    "crime_model_path = \"crime_classifier.cmf\"\n",
    "\n",
    "zone_classifier.save(zone_model_path)\n",
    "crime_classifier.save(crime_model_path)"
   ]
  },
  {
   "cell_type": "code",
   "execution_count": null,
   "metadata": {
    "collapsed": true
   },
   "outputs": [],
   "source": [
    "zone_model = C.load"
   ]
  }
 ],
 "metadata": {
  "kernelspec": {
   "display_name": "Python [Root]",
   "language": "python",
   "name": "Python [Root]"
  },
  "language_info": {
   "codemirror_mode": {
    "name": "ipython",
    "version": 3
   },
   "file_extension": ".py",
   "mimetype": "text/x-python",
   "name": "python",
   "nbconvert_exporter": "python",
   "pygments_lexer": "ipython3",
   "version": "3.5.2"
  }
 },
 "nbformat": 4,
 "nbformat_minor": 0
}
